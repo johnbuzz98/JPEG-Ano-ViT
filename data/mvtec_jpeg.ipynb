{
 "cells": [
  {
   "cell_type": "code",
   "execution_count": 1,
   "metadata": {},
   "outputs": [],
   "source": [
    "import os\n",
    "import PIL.Image\n",
    "os.chdir(\"/workspace/\")"
   ]
  },
  {
   "cell_type": "code",
   "execution_count": 2,
   "metadata": {},
   "outputs": [],
   "source": [
    "def transcode_to_jpeg(filepath='something.jpeg',):\n",
    "    \"\"\"\n",
    "    Transcodes non-jpeg image to jpeg\n",
    "\n",
    "    Args:\n",
    "        filepath: path to not-jpeg file to transcode\n",
    "    \"\"\"\n",
    "    notjpeg_image = PIL.Image.open(filepath).convert(\"RGB\")\n",
    "    filepath_basename = os.path.basename(filepath).split('.')[0] # filename without extension\n",
    "    filepath_basename = filepath_basename + \".JPEG\" # make it jpeg\n",
    "    savefilename = os.path.join(\n",
    "        os.path.dirname(filepath), filepath_basename\n",
    "    )\n",
    "    os.remove(filepath) # delete original file\n",
    "    notjpeg_image.save(savefilename, 'jpeg') # write to jpeg"
   ]
  },
  {
   "cell_type": "code",
   "execution_count": 2,
   "metadata": {},
   "outputs": [],
   "source": [
    "# original mvtec_dataset_path\n",
    "mvtec_path = \"dataset/mvtec_ad\"\n",
    "# new jpeg mvtec_dataset_path\n",
    "mvtec_jpeg_path = \"dataset/mvtec_ad_jpeg\""
   ]
  },
  {
   "cell_type": "code",
   "execution_count": 5,
   "metadata": {},
   "outputs": [],
   "source": [
    "#Copy mvtec_ad to new folder\n",
    "!cp -r $mvtec_path $mvtec_jpeg_path"
   ]
  },
  {
   "cell_type": "code",
   "execution_count": 8,
   "metadata": {},
   "outputs": [],
   "source": [
    "mvtec_jpeg_path = \"dataset/mvtec_ad_jpeg\"\n",
    "output_size = (224, 224)  # Resize dimension, adjust as needed\n",
    "\n",
    "def resize_jpeg_images(directory, size):\n",
    "    # Walk through the directory\n",
    "    for subdir, _, files in os.walk(directory):\n",
    "        for file in files:\n",
    "            # Check if the file is a JPEG\n",
    "            if file.lower().endswith('.jpeg') or file.lower().endswith('.jpg'):\n",
    "                filepath = os.path.join(subdir, file)\n",
    "                with Image.open(filepath) as img:\n",
    "                    # Resize the image\n",
    "                    img_resized = img.resize(size, Image.ANTIALIAS)\n",
    "                    # Save the resized image back to the same location\n",
    "                    img_resized.save(filepath, \"JPEG\")\n",
    "\n"
   ]
  },
  {
   "cell_type": "code",
   "execution_count": 10,
   "metadata": {},
   "outputs": [],
   "source": [
    "from PIL import Image"
   ]
  },
  {
   "cell_type": "code",
   "execution_count": 11,
   "metadata": {},
   "outputs": [
    {
     "name": "stderr",
     "output_type": "stream",
     "text": [
      "/tmp/ipykernel_2657436/139284126.py:13: DeprecationWarning: ANTIALIAS is deprecated and will be removed in Pillow 10 (2023-07-01). Use LANCZOS or Resampling.LANCZOS instead.\n",
      "  img_resized = img.resize(size, Image.ANTIALIAS)\n"
     ]
    }
   ],
   "source": [
    "resize_jpeg_images(mvtec_jpeg_path, output_size)"
   ]
  },
  {
   "cell_type": "code",
   "execution_count": null,
   "metadata": {},
   "outputs": [],
   "source": []
  }
 ],
 "metadata": {
  "kernelspec": {
   "display_name": "jpeganovit",
   "language": "python",
   "name": "python3"
  },
  "language_info": {
   "codemirror_mode": {
    "name": "ipython",
    "version": 3
   },
   "file_extension": ".py",
   "mimetype": "text/x-python",
   "name": "python",
   "nbconvert_exporter": "python",
   "pygments_lexer": "ipython3",
   "version": "3.10.12"
  },
  "orig_nbformat": 4
 },
 "nbformat": 4,
 "nbformat_minor": 2
}
